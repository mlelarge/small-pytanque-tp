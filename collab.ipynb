{
  "cells": [
    {
      "cell_type": "markdown",
      "metadata": {},
      "source": [
        "## Introduction"
      ]
    },
    {
      "cell_type": "markdown",
      "metadata": {
        "id": "WEITjNO2R8ZW"
      },
      "source": [
        "This first cell needs to be executed to set up the environment and instantiate the client used to connect to a proof assistant"
      ]
    },
    {
      "cell_type": "code",
      "execution_count": 1,
      "metadata": {
        "colab": {
          "base_uri": "https://localhost:8080/"
        },
        "id": "v0vAA7TYPiou",
        "outputId": "f9bfbb53-a733-49fc-ed25-8e23831c47ef"
      },
      "outputs": [],
      "source": [
        "# %pip install ollama\n",
        "# %pip install colab-xterm\n",
        "\n",
        "# !sudo apt-get update\n",
        "# !sudo apt-get install pciutils lshw\n",
        "\n",
        "# !curl -fsSL https://ollama.com/install.sh | sh\n",
        "# url = \"https://raw.githubusercontent.com/theostos/small-pytanque-tp/refs/heads/main/client.py\"\n",
        "# !wget --no-cache --backups=1 {url}\n",
        "# url = \"https://raw.githubusercontent.com/theostos/small-pytanque-tp/refs/heads/main/utils.py\"\n",
        "# !wget --no-cache --backups=1 {url}\n",
        "# !pip install requests\n",
        "\n",
        "from client import ProofAssistantClientAPI, goals_to_str\n",
        "\n",
        "client = ProofAssistantClientAPI(\"http://127.0.0.1:5000\")\n"
      ]
    },
    {
      "cell_type": "markdown",
      "metadata": {
        "id": "ICLmivdZSdHP"
      },
      "source": [
        "On the server side, there is a file containing some theorems. First, let's look at them."
      ]
    },
    {
      "cell_type": "code",
      "execution_count": 2,
      "metadata": {
        "colab": {
          "base_uri": "https://localhost:8080/"
        },
        "id": "vMwUUyZPQVrN",
        "outputId": "67ef1f96-7a82-41f3-a2b5-d0e89fd647bd"
      },
      "outputs": [
        {
          "name": "stdout",
          "output_type": "stream",
          "text": [
            "Theorems in section: introduction\n",
            "Theorem 0, involution_injective description: forall x y, f x = f y -> x = y\n",
            "\n",
            "Theorems in section: logic\n",
            "Theorem 0, Modus_ponens description: forall P Q : Prop, P -> (P -> Q) -> Q\n",
            "Theorem 1, Modus_tollens description: forall P Q : Prop, ~Q /\\ (P -> Q) -> ~P\n",
            "Theorem 2, Disjunctive_syllogism description: forall P Q : Prop, (P \\/ Q) -> ~P -> Q\n",
            "Theorem 3, DeMorgan1 description: forall P Q : Prop, ~P \\/ ~Q -> ~(P /\\ Q)\n",
            "Theorem 4, DeMorgan2 description: forall P Q : Prop, ~P /\\ ~Q -> ~(P \\/ Q)\n",
            "Theorem 5, DeMorgan3 description: forall P Q : Prop, ~(P \\/ Q) -> ~P /\\ ~Q\n",
            "Theorem 6, NotNot_LEM description: forall P : Prop, ~ ~(P \\/ ~P)\n",
            "\n",
            "Theorems in section: math\n",
            "Theorem 0, unique_max description: (A : R -> Prop) (x y : R) : x is_a_max_of A -> y is_a_max_of A -> x = y\n",
            "Theorem 1, inf_lt description: (A : R -> Prop) (x : R) : x is_an_inf_of A -> forall y, x < y -> exists a, A a /\\ a < y\n",
            "Theorem 2, le_of_le_add_eps description: (x y : R) : (forall eps, eps > 0 -> y <= x + eps) -> y <= x\n",
            "Theorem 3, le_lim description: (x y : R) (u : nat -> R) : limit u x -> (forall n, y <= u n) -> y <= x\n",
            "Theorem 4, inv_succ_pos description: forall n : nat, 0 < / (INR (n + 1))\n",
            "Theorem 5, limit_inv_succ description: (eps : R) (Heps : eps > 0) : exists N : nat, forall n, (n >= N)%nat -> / (INR (n + 1)) <= eps\n",
            "Theorem 6, inf_seq description: (A : R -> Prop) (x : R) : (x is_an_inf_of A) <-> ((forall a, A a -> x <= a) /\\ exists u : nat -> R, limit u x /\\ forall n, A (u n))\n",
            "\n"
          ]
        }
      ],
      "source": [
        "for section in client.sections():\n",
        "  print(f\"Theorems in section: {section}\")\n",
        "  for k in range(client.num_thm(section)):\n",
        "    thm = client.show_thm(section, k)\n",
        "    print(f\"Theorem {k}, {thm['name']} description: {thm['statement']}\")\n",
        "  print()\n"
      ]
    },
    {
      "cell_type": "markdown",
      "metadata": {},
      "source": [
        "### A case study: Lelarge Theorem"
      ]
    },
    {
      "cell_type": "markdown",
      "metadata": {
        "id": "W100hytLR3ZJ"
      },
      "source": [
        "We will start by proving the Lelarge Theorem in the Introduction section.\n",
        "Let's review it by selecting the first theorem (index = 0) in the \"introduction\" section.\n",
        "\n",
        "Before doing so, we need to examine the current context (i.e. the available lemmas, definitions, and notations) to understand it."
      ]
    },
    {
      "cell_type": "code",
      "execution_count": 3,
      "metadata": {
        "colab": {
          "base_uri": "https://localhost:8080/"
        },
        "id": "xNj_IITFRW22",
        "outputId": "f44c297a-d83a-487a-e1f1-0a6ba6cbbe4e"
      },
      "outputs": [
        {
          "name": "stdout",
          "output_type": "stream",
          "text": [
            "Context:\n",
            "Variable A : Type.\n",
            "Variable f : A -> A.\n",
            "Hypothesis Hinv : forall x, f (f x) = x.\n",
            "\n",
            "\n",
            "Theorem involution_injective: forall x y, f x = f y -> x = y\n"
          ]
        }
      ],
      "source": [
        "thm =  client.show_thm(\"introduction\", 0)\n",
        "print(\"Context:\")\n",
        "print(\"\\n\".join(thm['premises']))\n",
        "print(\"\\n\")\n",
        "print(f\"Theorem {thm['name']}: {thm['statement']}\",)"
      ]
    },
    {
      "cell_type": "markdown",
      "metadata": {},
      "source": [
        "Theorem involution_injective states that an arbitrary function f, satisfying Hinv (i.e. being an involution), is one-to-one.\n",
        "\n",
        "To prove it, we will use the following tactics (read from left to right):\n",
        "\n",
        "* \"intros x y H.\" introduces two variables, x and y, associated with the forall quantifier, and the hypothesis H corresponding to f x = f y.\n",
        "* \"rewrite <- Hinv with (x := x).\" rewrites the left-hand side of the current goal using the hypothesis specialized with x = x.\n",
        "* \"rewrite <- Hinv with (x := y).\" rewrites the left-hand side of the current goal using the hypothesis specialized with x = y.\n",
        "* \"rewrite H.\" rewrites the current goal using the introduced hypothesis H (i.e. f x = f y).\n",
        "* \"reflexivity.\" discharges goals of the form a = a."
      ]
    },
    {
      "cell_type": "markdown",
      "metadata": {},
      "source": [
        "### (Optionnal) A more trivial example\n",
        "\n",
        "Theorem Modus_ponens states that if P is true and P implies Q, then Q is also true.\n",
        "\n",
        "To prove this theorem, we will use the following tactics (read from left to right):\n",
        "\n",
        "* \"intros P Q.\" introduces the two propositions P and Q into the context—that is, they become available assumptions we can use.\n",
        "* \"intros H H0.\" introduces the two hypotheses: H, a proof of P, and H0, a proof of P => Q, into the context.\n",
        "* \"apply H0.\" At this point, our goal is to prove Q. Since we have a proof of P => Q (namely H0), applying it reduces our goal to proving P.\n",
        "* \"exact H.\" Now the goal is to prove P. Since we already have a proof of P in our context, we can use it directly with the exact tactic."
      ]
    },
    {
      "cell_type": "code",
      "execution_count": 4,
      "metadata": {},
      "outputs": [
        {
          "name": "stdout",
          "output_type": "stream",
          "text": [
            "Started theorem session:\n",
            "Status: ongoing\n",
            "Goal 1:\n",
            "\n",
            "|-forall P Q : Prop, P -> (P -> Q) -> Q\n",
            "\n"
          ]
        }
      ],
      "source": [
        "state, goals = client.start_thm(\"logic\", 0)\n",
        "print(\"Started theorem session:\")\n",
        "print(goals_to_str(goals))"
      ]
    },
    {
      "cell_type": "code",
      "execution_count": 5,
      "metadata": {},
      "outputs": [
        {
          "name": "stdout",
          "output_type": "stream",
          "text": [
            "Status: ongoing\n",
            "Goal 1:\n",
            "P, Q  : Prop\n",
            "|-P -> (P -> Q) -> Q\n",
            "\n"
          ]
        }
      ],
      "source": [
        "\n",
        "state, goals = client.run_tac(state, \"intros P Q.\")\n",
        "print(goals_to_str(goals))"
      ]
    },
    {
      "cell_type": "code",
      "execution_count": 6,
      "metadata": {},
      "outputs": [
        {
          "name": "stdout",
          "output_type": "stream",
          "text": [
            "Status: ongoing\n",
            "Goal 1:\n",
            "P, Q  : Prop\n",
            "H  : P\n",
            "H0  : P -> Q\n",
            "|-Q\n",
            "\n"
          ]
        }
      ],
      "source": [
        "\n",
        "state, goals = client.run_tac(state, \"intros H H0.\")\n",
        "print(goals_to_str(goals))"
      ]
    },
    {
      "cell_type": "code",
      "execution_count": 7,
      "metadata": {},
      "outputs": [
        {
          "name": "stdout",
          "output_type": "stream",
          "text": [
            "Status: ongoing\n",
            "Goal 1:\n",
            "P, Q  : Prop\n",
            "H  : P\n",
            "H0  : P -> Q\n",
            "|-P\n",
            "\n"
          ]
        }
      ],
      "source": [
        "\n",
        "state, goals = client.run_tac(state, \"apply H0.\")\n",
        "print(goals_to_str(goals))"
      ]
    },
    {
      "cell_type": "code",
      "execution_count": 8,
      "metadata": {},
      "outputs": [
        {
          "name": "stdout",
          "output_type": "stream",
          "text": [
            "Status: finished\n",
            "\n"
          ]
        }
      ],
      "source": [
        "\n",
        "state, goals = client.run_tac(state, \"exact H.\")\n",
        "print(goals_to_str(goals))"
      ]
    },
    {
      "cell_type": "markdown",
      "metadata": {},
      "source": [
        "## Generation"
      ]
    },
    {
      "cell_type": "markdown",
      "metadata": {},
      "source": [
        "After this quick introduction, let's experiment different strategies of generation.\n",
        "Ideas and some code snippets come from [Guillaume Baudart's notebook](https://github.com/LLM4Rocq/pytanque/blob/main/examples/getting_started.ipynb) and [Kaiyu Yang @ NeurIPS 2023 tutorial](https://github.com/yangky11/ml4tp-tutorial/blob/main/main.ipynb)."
      ]
    },
    {
      "cell_type": "markdown",
      "metadata": {},
      "source": [
        "First strategy, let's try to generate random tactics hoping along the lines to find a correct proof."
      ]
    },
    {
      "cell_type": "code",
      "execution_count": 9,
      "metadata": {
        "id": "VfKPrKU6TCAd"
      },
      "outputs": [
        {
          "data": {
            "text/plain": [
              "(['left.', 'unfold not.', 'right.'],\n",
              " [0.9813818812725896, 0.5765404221171564, 0.6036429348759531])"
            ]
          },
          "execution_count": 9,
          "metadata": {},
          "output_type": "execute_result"
        }
      ],
      "source": [
        "from utils import generate_tactics, beam_search\n",
        "\n",
        "generate_tactics(3)"
      ]
    },
    {
      "cell_type": "code",
      "execution_count": 17,
      "metadata": {},
      "outputs": [
        {
          "name": "stdout",
          "output_type": "stream",
          "text": [
            "Theorems in section: logic\n",
            "Theorem 0, Modus_ponens description: forall P Q : Prop, P -> (P -> Q) -> Q\n",
            "\n",
            "Theorem 1, Modus_tollens description: forall P Q : Prop, ~Q /\\ (P -> Q) -> ~P\n",
            "\n",
            "Theorem 2, Disjunctive_syllogism description: forall P Q : Prop, (P \\/ Q) -> ~P -> Q\n",
            "\n",
            "Theorem 3, DeMorgan1 description: forall P Q : Prop, ~P \\/ ~Q -> ~(P /\\ Q)\n",
            "\n",
            "Theorem 4, DeMorgan2 description: forall P Q : Prop, ~P /\\ ~Q -> ~(P \\/ Q)\n",
            "\n",
            "Theorem 5, DeMorgan3 description: forall P Q : Prop, ~(P \\/ Q) -> ~P /\\ ~Q\n",
            "\n",
            "Theorem 6, NotNot_LEM description: forall P : Prop, ~ ~(P \\/ ~P)\n",
            "\n"
          ]
        }
      ],
      "source": [
        "section = \"logic\"\n",
        "print(f\"Theorems in section: {section}\")\n",
        "for k in range(client.num_thm(section)):\n",
        "    thm = client.show_thm(section, k)\n",
        "    print(f\"Theorem {k}, {thm['name']} description: {thm['statement']}\")\n",
        "    print()"
      ]
    },
    {
      "cell_type": "code",
      "execution_count": 14,
      "metadata": {},
      "outputs": [
        {
          "name": "stdout",
          "output_type": "stream",
          "text": [
            "Proof: intros. apply H0. exact H.\n",
            "Proof: unfold not. intros. inversion H. apply H. apply H. exact H0.\n",
            "No proof found...\n",
            "No proof found...\n",
            "No proof found...\n",
            "No proof found...\n",
            "No proof found...\n"
          ]
        }
      ],
      "source": [
        "section = \"logic\"\n",
        "for k in range(client.num_thm(section)):\n",
        "    proof = beam_search(client, section, k, max_depth=16, beam_size=32, timeout=10.)\n",
        "\n",
        "    if proof:\n",
        "        print(f\"Proof: {\" \".join(proof)}\")\n",
        "    else:\n",
        "        print(\"No proof found...\")"
      ]
    },
    {
      "cell_type": "markdown",
      "metadata": {},
      "source": [
        "## Automatic theorem proving with LLMs\n",
        "\n",
        "In the following section, we leverage a small LLM (the 7b distilled version of deepseek-r1).\n",
        "We run it locally."
      ]
    },
    {
      "cell_type": "code",
      "execution_count": null,
      "metadata": {},
      "outputs": [],
      "source": [
        "import subprocess\n",
        "subprocess.Popen([\"ollama\", \"serve\"])"
      ]
    },
    {
      "cell_type": "code",
      "execution_count": null,
      "metadata": {},
      "outputs": [],
      "source": [
        "# !ollama pull deepseek-r1:7b"
      ]
    },
    {
      "cell_type": "code",
      "execution_count": null,
      "metadata": {},
      "outputs": [],
      "source": [
        "import ollama\n",
        "\n",
        "def get_response(prompt):\n",
        "  response = ollama.chat(\n",
        "        model=\"deepseek-r1:7b\",\n",
        "        messages=[\n",
        "            {\"role\": \"user\", \"content\": prompt},\n",
        "        ],\n",
        "        options={\"temperature\":0.6}\n",
        "    )\n",
        "  return response[\"message\"][\"content\"]"
      ]
    },
    {
      "cell_type": "code",
      "execution_count": 13,
      "metadata": {},
      "outputs": [
        {
          "name": "stdout",
          "output_type": "stream",
          "text": [
            "Here is a lemma in Rocq (formerly known as Coq): \n",
            "\n",
            "\"Theorem involution_injective: forall x y, f x = f y -> x = y\"\n",
            "\n",
            "Here is some notations, definitions, and lemmas useful to understand and prove the theorem:\n",
            "\n",
            "\"Variable A : Type.\n",
            "Variable f : A -> A.\n",
            "Hypothesis Hinv : forall x, f (f x) = x.\"\n",
            "\n",
            "Think step by step to find a sequence of tactics in Rocq/Coq to solve this lemma. Write the final sequence of Rocq/Coq tactics between \\boxed{}.\n",
            "\n"
          ]
        }
      ],
      "source": [
        "prompt_template = \"\"\"Here is a lemma in Rocq (formerly known as Coq): \n",
        "\n",
        "\"{statement}\"\n",
        "\n",
        "Here are some notations, definitions, and lemmas useful for understanding and proving the provided theorem:\n",
        "\n",
        "\"{premises}\"\n",
        "\n",
        "Think step by step to find a sequence of tactics in Rocq/Coq to solve this lemma. Write the final sequence of Rocq/Coq tactics between \\\\boxed{{}}.\n",
        "\n",
        "Here is an example of a correct final output for another lemma:\n",
        "\\\\boxed{unfold not.\n",
        "  intros P Q H H0.\n",
        "  inversion H.\n",
        "  apply H1.\n",
        "  apply H2.\n",
        "  exact H0.}\n",
        "\"\"\"\n",
        "\n",
        "thm =  client.show_thm(\"introduction\", 0)\n",
        "statement = f\"Theorem {thm['name']}: {thm['statement']}\"\n",
        "premises = \"\\n\".join(thm['premises'])\n",
        "\n",
        "prompt = prompt_template.format(statement=statement, premises=premises)\n",
        "# response = get_response(prompt)\n",
        "# print(response)\n",
        "\n",
        "print(prompt)"
      ]
    },
    {
      "cell_type": "markdown",
      "metadata": {},
      "source": [
        "Now, let's try to find better prompts!"
      ]
    }
  ],
  "metadata": {
    "accelerator": "GPU",
    "colab": {
      "gpuType": "T4",
      "provenance": []
    },
    "kernelspec": {
      "display_name": "flask_new",
      "language": "python",
      "name": "python3"
    },
    "language_info": {
      "codemirror_mode": {
        "name": "ipython",
        "version": 3
      },
      "file_extension": ".py",
      "mimetype": "text/x-python",
      "name": "python",
      "nbconvert_exporter": "python",
      "pygments_lexer": "ipython3",
      "version": "3.12.0"
    }
  },
  "nbformat": 4,
  "nbformat_minor": 0
}
